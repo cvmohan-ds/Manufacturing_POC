{
 "cells": [
  {
   "cell_type": "markdown",
   "metadata": {},
   "source": [
    "# Predicting what the Customer Organization order"
   ]
  },
  {
   "cell_type": "code",
   "execution_count": 1,
   "metadata": {},
   "outputs": [],
   "source": [
    "import pandas as pd\n",
    "import matplotlib.pyplot as plt\n",
    "import seaborn as sns\n",
    "\n",
    "from sklearn.feature_selection import SelectKBest\n",
    "from sklearn.preprocessing import LabelEncoder\n",
    "from sklearn.preprocessing import OneHotEncoder\n",
    "\n",
    "from sklearn.preprocessing import FunctionTransformer\n",
    "from sklearn.compose import ColumnTransformer\n",
    "from sklearn.model_selection import train_test_split\n",
    "from sklearn.utils import all_estimators\n",
    "from sklearn.metrics import accuracy_score, precision_score, recall_score, f1_score, roc_auc_score, r2_score\n",
    "from sklearn.model_selection import GridSearchCV\n",
    "\n",
    "import requests\n",
    "import bs4\n",
    "from bs4 import BeautifulSoup\n",
    "\n",
    "\n",
    "import warnings\n",
    "\n",
    "warnings.filterwarnings(\"ignore\")\n",
    "\n",
    "%matplotlib inline"
   ]
  },
  {
   "cell_type": "markdown",
   "metadata": {},
   "source": [
    "## Load and understand the data"
   ]
  },
  {
   "cell_type": "code",
   "execution_count": 2,
   "metadata": {},
   "outputs": [
    {
     "data": {
      "text/html": [
       "<div>\n",
       "<style scoped>\n",
       "    .dataframe tbody tr th:only-of-type {\n",
       "        vertical-align: middle;\n",
       "    }\n",
       "\n",
       "    .dataframe tbody tr th {\n",
       "        vertical-align: top;\n",
       "    }\n",
       "\n",
       "    .dataframe thead th {\n",
       "        text-align: right;\n",
       "    }\n",
       "</style>\n",
       "<table border=\"1\" class=\"dataframe\">\n",
       "  <thead>\n",
       "    <tr style=\"text-align: right;\">\n",
       "      <th></th>\n",
       "      <th>CUSTOMER_ORDER_ID</th>\n",
       "      <th>SALES_ORG</th>\n",
       "      <th>DISTRIBUTION_CHANNEL</th>\n",
       "      <th>DIVISION</th>\n",
       "      <th>RELEASED_CREDIT_VALUE</th>\n",
       "      <th>PURCHASE_ORDER_TYPE</th>\n",
       "      <th>COMPANY_CODE</th>\n",
       "      <th>ORDER_CREATION_DATE</th>\n",
       "      <th>ORDER_CREATION_TIME</th>\n",
       "      <th>CREDIT_CONTROL_AREA</th>\n",
       "      <th>SOLD_TO_PARTY</th>\n",
       "      <th>ORDER_AMOUNT</th>\n",
       "      <th>REQUESTED_DELIVERY_DATE</th>\n",
       "      <th>ORDER_CURRENCY</th>\n",
       "      <th>CREDIT_STATUS</th>\n",
       "      <th>CUSTOMER_NUMBER</th>\n",
       "    </tr>\n",
       "  </thead>\n",
       "  <tbody>\n",
       "    <tr>\n",
       "      <th>0</th>\n",
       "      <td>946851639</td>\n",
       "      <td>3537</td>\n",
       "      <td>United States of America</td>\n",
       "      <td>South-Region</td>\n",
       "      <td>0,00</td>\n",
       "      <td>1000</td>\n",
       "      <td>3220</td>\n",
       "      <td>20220101</td>\n",
       "      <td>43012</td>\n",
       "      <td>SR02</td>\n",
       "      <td>756141537</td>\n",
       "      <td>954,61</td>\n",
       "      <td>20220113</td>\n",
       "      <td>EUR</td>\n",
       "      <td>NaN</td>\n",
       "      <td>12311807</td>\n",
       "    </tr>\n",
       "    <tr>\n",
       "      <th>1</th>\n",
       "      <td>963432061</td>\n",
       "      <td>3449</td>\n",
       "      <td>Martinique</td>\n",
       "      <td>South-Region</td>\n",
       "      <td>0,00</td>\n",
       "      <td>1000</td>\n",
       "      <td>3220</td>\n",
       "      <td>20220101</td>\n",
       "      <td>43114</td>\n",
       "      <td>NR03</td>\n",
       "      <td>798847812</td>\n",
       "      <td>787,36</td>\n",
       "      <td>20220111</td>\n",
       "      <td>EUR</td>\n",
       "      <td>NaN</td>\n",
       "      <td>12311807</td>\n",
       "    </tr>\n",
       "    <tr>\n",
       "      <th>2</th>\n",
       "      <td>971991639</td>\n",
       "      <td>3238</td>\n",
       "      <td>Moldova</td>\n",
       "      <td>South-Region</td>\n",
       "      <td>82342,02</td>\n",
       "      <td>I200</td>\n",
       "      <td>3260</td>\n",
       "      <td>20220101</td>\n",
       "      <td>110019</td>\n",
       "      <td>NR01</td>\n",
       "      <td>960984659</td>\n",
       "      <td>67493,46</td>\n",
       "      <td>20220112</td>\n",
       "      <td>EUR</td>\n",
       "      <td>93.0</td>\n",
       "      <td>12118758</td>\n",
       "    </tr>\n",
       "    <tr>\n",
       "      <th>3</th>\n",
       "      <td>754349803</td>\n",
       "      <td>3911</td>\n",
       "      <td>United Arab Emirates</td>\n",
       "      <td>South-Region</td>\n",
       "      <td>1471,24</td>\n",
       "      <td>N000</td>\n",
       "      <td>3290</td>\n",
       "      <td>20220101</td>\n",
       "      <td>153013</td>\n",
       "      <td>SR02</td>\n",
       "      <td>925857642</td>\n",
       "      <td>1405,54</td>\n",
       "      <td>20220106</td>\n",
       "      <td>EUR</td>\n",
       "      <td>93.0</td>\n",
       "      <td>1210499770</td>\n",
       "    </tr>\n",
       "    <tr>\n",
       "      <th>4</th>\n",
       "      <td>930253442</td>\n",
       "      <td>2381</td>\n",
       "      <td>Greece</td>\n",
       "      <td>South-Region</td>\n",
       "      <td>0,00</td>\n",
       "      <td>N000</td>\n",
       "      <td>3290</td>\n",
       "      <td>20220101</td>\n",
       "      <td>160020</td>\n",
       "      <td>SR01</td>\n",
       "      <td>947942786</td>\n",
       "      <td>0,00</td>\n",
       "      <td>20220106</td>\n",
       "      <td>EUR</td>\n",
       "      <td>64.0</td>\n",
       "      <td>1210351400</td>\n",
       "    </tr>\n",
       "  </tbody>\n",
       "</table>\n",
       "</div>"
      ],
      "text/plain": [
       "   CUSTOMER_ORDER_ID  SALES_ORG      DISTRIBUTION_CHANNEL      DIVISION  \\\n",
       "0          946851639       3537  United States of America  South-Region   \n",
       "1          963432061       3449                Martinique  South-Region   \n",
       "2          971991639       3238                   Moldova  South-Region   \n",
       "3          754349803       3911      United Arab Emirates  South-Region   \n",
       "4          930253442       2381                    Greece  South-Region   \n",
       "\n",
       "  RELEASED_CREDIT_VALUE PURCHASE_ORDER_TYPE  COMPANY_CODE  \\\n",
       "0                  0,00                1000          3220   \n",
       "1                  0,00                1000          3220   \n",
       "2              82342,02                I200          3260   \n",
       "3               1471,24                N000          3290   \n",
       "4                  0,00                N000          3290   \n",
       "\n",
       "   ORDER_CREATION_DATE  ORDER_CREATION_TIME CREDIT_CONTROL_AREA  \\\n",
       "0             20220101                43012                SR02   \n",
       "1             20220101                43114                NR03   \n",
       "2             20220101               110019                NR01   \n",
       "3             20220101               153013                SR02   \n",
       "4             20220101               160020                SR01   \n",
       "\n",
       "   SOLD_TO_PARTY ORDER_AMOUNT  REQUESTED_DELIVERY_DATE ORDER_CURRENCY  \\\n",
       "0      756141537       954,61                 20220113            EUR   \n",
       "1      798847812       787,36                 20220111            EUR   \n",
       "2      960984659     67493,46                 20220112            EUR   \n",
       "3      925857642      1405,54                 20220106            EUR   \n",
       "4      947942786         0,00                 20220106            EUR   \n",
       "\n",
       "   CREDIT_STATUS  CUSTOMER_NUMBER  \n",
       "0            NaN         12311807  \n",
       "1            NaN         12311807  \n",
       "2           93.0         12118758  \n",
       "3           93.0       1210499770  \n",
       "4           64.0       1210351400  "
      ]
     },
     "execution_count": 2,
     "metadata": {},
     "output_type": "execute_result"
    }
   ],
   "source": [
    "df = pd.read_csv(\"C:/Users/cvmda/code/data/ds/manu_demand_forecast/Customer_order_prediction_data.csv\")\n",
    "df.head()"
   ]
  },
  {
   "cell_type": "code",
   "execution_count": 3,
   "metadata": {},
   "outputs": [
    {
     "name": "stdout",
     "output_type": "stream",
     "text": [
      "<class 'pandas.core.frame.DataFrame'>\n",
      "RangeIndex: 1101925 entries, 0 to 1101924\n",
      "Data columns (total 16 columns):\n",
      " #   Column                   Non-Null Count    Dtype  \n",
      "---  ------                   --------------    -----  \n",
      " 0   CUSTOMER_ORDER_ID        1101925 non-null  int64  \n",
      " 1   SALES_ORG                1101925 non-null  int64  \n",
      " 2   DISTRIBUTION_CHANNEL     1101925 non-null  object \n",
      " 3   DIVISION                 1101925 non-null  object \n",
      " 4   RELEASED_CREDIT_VALUE    1101925 non-null  object \n",
      " 5   PURCHASE_ORDER_TYPE      1083233 non-null  object \n",
      " 6   COMPANY_CODE             1101925 non-null  int64  \n",
      " 7   ORDER_CREATION_DATE      1101925 non-null  int64  \n",
      " 8   ORDER_CREATION_TIME      1101925 non-null  int64  \n",
      " 9   CREDIT_CONTROL_AREA      1101925 non-null  object \n",
      " 10  SOLD_TO_PARTY            1101925 non-null  int64  \n",
      " 11  ORDER_AMOUNT             1101925 non-null  object \n",
      " 12  REQUESTED_DELIVERY_DATE  1101925 non-null  int64  \n",
      " 13  ORDER_CURRENCY           1101925 non-null  object \n",
      " 14  CREDIT_STATUS            219478 non-null   float64\n",
      " 15  CUSTOMER_NUMBER          1101925 non-null  int64  \n",
      "dtypes: float64(1), int64(8), object(7)\n",
      "memory usage: 134.5+ MB\n"
     ]
    }
   ],
   "source": [
    "df.info()"
   ]
  },
  {
   "cell_type": "code",
   "execution_count": 4,
   "metadata": {},
   "outputs": [
    {
     "data": {
      "text/html": [
       "<div>\n",
       "<style scoped>\n",
       "    .dataframe tbody tr th:only-of-type {\n",
       "        vertical-align: middle;\n",
       "    }\n",
       "\n",
       "    .dataframe tbody tr th {\n",
       "        vertical-align: top;\n",
       "    }\n",
       "\n",
       "    .dataframe thead th {\n",
       "        text-align: right;\n",
       "    }\n",
       "</style>\n",
       "<table border=\"1\" class=\"dataframe\">\n",
       "  <thead>\n",
       "    <tr style=\"text-align: right;\">\n",
       "      <th></th>\n",
       "      <th>count</th>\n",
       "      <th>mean</th>\n",
       "      <th>std</th>\n",
       "      <th>min</th>\n",
       "      <th>25%</th>\n",
       "      <th>50%</th>\n",
       "      <th>75%</th>\n",
       "      <th>max</th>\n",
       "    </tr>\n",
       "  </thead>\n",
       "  <tbody>\n",
       "    <tr>\n",
       "      <th>CUSTOMER_ORDER_ID</th>\n",
       "      <td>1101925.0</td>\n",
       "      <td>8.763187e+08</td>\n",
       "      <td>7.088594e+07</td>\n",
       "      <td>753452029.0</td>\n",
       "      <td>8.149522e+08</td>\n",
       "      <td>8.763963e+08</td>\n",
       "      <td>9.376832e+08</td>\n",
       "      <td>9.990063e+08</td>\n",
       "    </tr>\n",
       "    <tr>\n",
       "      <th>SALES_ORG</th>\n",
       "      <td>1101925.0</td>\n",
       "      <td>3.304891e+03</td>\n",
       "      <td>6.958920e+02</td>\n",
       "      <td>2100.0</td>\n",
       "      <td>2.702000e+03</td>\n",
       "      <td>3.305000e+03</td>\n",
       "      <td>3.908000e+03</td>\n",
       "      <td>4.510000e+03</td>\n",
       "    </tr>\n",
       "    <tr>\n",
       "      <th>COMPANY_CODE</th>\n",
       "      <td>1101925.0</td>\n",
       "      <td>3.431364e+03</td>\n",
       "      <td>5.483805e+02</td>\n",
       "      <td>59.0</td>\n",
       "      <td>3.260000e+03</td>\n",
       "      <td>3.660000e+03</td>\n",
       "      <td>3.670000e+03</td>\n",
       "      <td>4.260000e+03</td>\n",
       "    </tr>\n",
       "    <tr>\n",
       "      <th>ORDER_CREATION_DATE</th>\n",
       "      <td>1101925.0</td>\n",
       "      <td>2.022032e+07</td>\n",
       "      <td>1.426756e+02</td>\n",
       "      <td>20220101.0</td>\n",
       "      <td>2.022021e+07</td>\n",
       "      <td>2.022032e+07</td>\n",
       "      <td>2.022042e+07</td>\n",
       "      <td>2.022060e+07</td>\n",
       "    </tr>\n",
       "    <tr>\n",
       "      <th>ORDER_CREATION_TIME</th>\n",
       "      <td>1101925.0</td>\n",
       "      <td>1.340316e+05</td>\n",
       "      <td>6.503618e+04</td>\n",
       "      <td>0.0</td>\n",
       "      <td>8.170200e+04</td>\n",
       "      <td>1.509540e+05</td>\n",
       "      <td>1.853580e+05</td>\n",
       "      <td>2.359590e+05</td>\n",
       "    </tr>\n",
       "    <tr>\n",
       "      <th>SOLD_TO_PARTY</th>\n",
       "      <td>1101925.0</td>\n",
       "      <td>8.763265e+08</td>\n",
       "      <td>7.090306e+07</td>\n",
       "      <td>753451795.0</td>\n",
       "      <td>8.148366e+08</td>\n",
       "      <td>8.763542e+08</td>\n",
       "      <td>9.377293e+08</td>\n",
       "      <td>9.990075e+08</td>\n",
       "    </tr>\n",
       "    <tr>\n",
       "      <th>REQUESTED_DELIVERY_DATE</th>\n",
       "      <td>1101925.0</td>\n",
       "      <td>2.022035e+07</td>\n",
       "      <td>1.751912e+03</td>\n",
       "      <td>20190808.0</td>\n",
       "      <td>2.022022e+07</td>\n",
       "      <td>2.022033e+07</td>\n",
       "      <td>2.022050e+07</td>\n",
       "      <td>2.202022e+07</td>\n",
       "    </tr>\n",
       "    <tr>\n",
       "      <th>CREDIT_STATUS</th>\n",
       "      <td>219478.0</td>\n",
       "      <td>7.446477e+01</td>\n",
       "      <td>1.444421e+01</td>\n",
       "      <td>52.0</td>\n",
       "      <td>6.400000e+01</td>\n",
       "      <td>6.400000e+01</td>\n",
       "      <td>9.300000e+01</td>\n",
       "      <td>9.300000e+01</td>\n",
       "    </tr>\n",
       "    <tr>\n",
       "      <th>CUSTOMER_NUMBER</th>\n",
       "      <td>1101925.0</td>\n",
       "      <td>1.074092e+09</td>\n",
       "      <td>4.042693e+08</td>\n",
       "      <td>12100011.0</td>\n",
       "      <td>1.230006e+09</td>\n",
       "      <td>1.230014e+09</td>\n",
       "      <td>1.230014e+09</td>\n",
       "      <td>1.230025e+09</td>\n",
       "    </tr>\n",
       "  </tbody>\n",
       "</table>\n",
       "</div>"
      ],
      "text/plain": [
       "                             count          mean           std          min  \\\n",
       "CUSTOMER_ORDER_ID        1101925.0  8.763187e+08  7.088594e+07  753452029.0   \n",
       "SALES_ORG                1101925.0  3.304891e+03  6.958920e+02       2100.0   \n",
       "COMPANY_CODE             1101925.0  3.431364e+03  5.483805e+02         59.0   \n",
       "ORDER_CREATION_DATE      1101925.0  2.022032e+07  1.426756e+02   20220101.0   \n",
       "ORDER_CREATION_TIME      1101925.0  1.340316e+05  6.503618e+04          0.0   \n",
       "SOLD_TO_PARTY            1101925.0  8.763265e+08  7.090306e+07  753451795.0   \n",
       "REQUESTED_DELIVERY_DATE  1101925.0  2.022035e+07  1.751912e+03   20190808.0   \n",
       "CREDIT_STATUS             219478.0  7.446477e+01  1.444421e+01         52.0   \n",
       "CUSTOMER_NUMBER          1101925.0  1.074092e+09  4.042693e+08   12100011.0   \n",
       "\n",
       "                                  25%           50%           75%  \\\n",
       "CUSTOMER_ORDER_ID        8.149522e+08  8.763963e+08  9.376832e+08   \n",
       "SALES_ORG                2.702000e+03  3.305000e+03  3.908000e+03   \n",
       "COMPANY_CODE             3.260000e+03  3.660000e+03  3.670000e+03   \n",
       "ORDER_CREATION_DATE      2.022021e+07  2.022032e+07  2.022042e+07   \n",
       "ORDER_CREATION_TIME      8.170200e+04  1.509540e+05  1.853580e+05   \n",
       "SOLD_TO_PARTY            8.148366e+08  8.763542e+08  9.377293e+08   \n",
       "REQUESTED_DELIVERY_DATE  2.022022e+07  2.022033e+07  2.022050e+07   \n",
       "CREDIT_STATUS            6.400000e+01  6.400000e+01  9.300000e+01   \n",
       "CUSTOMER_NUMBER          1.230006e+09  1.230014e+09  1.230014e+09   \n",
       "\n",
       "                                  max  \n",
       "CUSTOMER_ORDER_ID        9.990063e+08  \n",
       "SALES_ORG                4.510000e+03  \n",
       "COMPANY_CODE             4.260000e+03  \n",
       "ORDER_CREATION_DATE      2.022060e+07  \n",
       "ORDER_CREATION_TIME      2.359590e+05  \n",
       "SOLD_TO_PARTY            9.990075e+08  \n",
       "REQUESTED_DELIVERY_DATE  2.202022e+07  \n",
       "CREDIT_STATUS            9.300000e+01  \n",
       "CUSTOMER_NUMBER          1.230025e+09  "
      ]
     },
     "execution_count": 4,
     "metadata": {},
     "output_type": "execute_result"
    }
   ],
   "source": [
    "df.describe().T"
   ]
  },
  {
   "cell_type": "code",
   "execution_count": 5,
   "metadata": {},
   "outputs": [
    {
     "data": {
      "text/plain": [
       "(1101925, 16)"
      ]
     },
     "execution_count": 5,
     "metadata": {},
     "output_type": "execute_result"
    }
   ],
   "source": [
    "df.shape"
   ]
  },
  {
   "cell_type": "code",
   "execution_count": 6,
   "metadata": {},
   "outputs": [
    {
     "data": {
      "text/plain": [
       "CUSTOMER_ORDER_ID               0\n",
       "SALES_ORG                       0\n",
       "DISTRIBUTION_CHANNEL            0\n",
       "DIVISION                        0\n",
       "RELEASED_CREDIT_VALUE           0\n",
       "PURCHASE_ORDER_TYPE         18692\n",
       "COMPANY_CODE                    0\n",
       "ORDER_CREATION_DATE             0\n",
       "ORDER_CREATION_TIME             0\n",
       "CREDIT_CONTROL_AREA             0\n",
       "SOLD_TO_PARTY                   0\n",
       "ORDER_AMOUNT                    0\n",
       "REQUESTED_DELIVERY_DATE         0\n",
       "ORDER_CURRENCY                  0\n",
       "CREDIT_STATUS              882447\n",
       "CUSTOMER_NUMBER                 0\n",
       "dtype: int64"
      ]
     },
     "execution_count": 6,
     "metadata": {},
     "output_type": "execute_result"
    }
   ],
   "source": [
    "df.isnull().sum()"
   ]
  },
  {
   "cell_type": "code",
   "execution_count": 7,
   "metadata": {},
   "outputs": [
    {
     "data": {
      "text/plain": [
       "array(['1000', 'I200', 'N000', 'N250', '9999', 'NAAA', '2590', 'N241',\n",
       "       'DFUE', nan, 'S000', 'T001', 'F001', '110', '6222', '9140', '210',\n",
       "       'URHA', 'A000', 'AZ40', 'I204', 'I186', 'IWHS', 'I183', '6219',\n",
       "       '2554', '9291', 'IGRO', '1365', '1385', '1386', '1387', '2558',\n",
       "       '1555', '3322', '1388', '1384', '1369', '2551', '7545', 'F708',\n",
       "       'F000', 'F705', 'F592', 'F707', 'F710', 'IFGM', 'B000', 'S844',\n",
       "       '2546', '4800', '6223', 'F999', '7559', '7542', '350', 'I001',\n",
       "       '7541', 'I333', 'NHK3', 'I327', '1345', 'I203', 'I202', 'F704',\n",
       "       'UCOL', 'KBAS', '1368', 'F593', '2575', '1383', 'N245', 'N244',\n",
       "       'F706', 'I334', '120', 'N242', 'B242', '211', '7544', 'S342',\n",
       "       'B251', 'B245', 'B252', 'B244', '5111', 'A225', 'A229', 'A234',\n",
       "       'N120', '243', 'U001', 'A601', 'S787', 'N121', 'B241', 'S788',\n",
       "       '320', 'N247', 'N217', '4111', 'A224', 'A758', 'A231', 'A223',\n",
       "       'A226', 'A232', 'F697', 'A228', 'A233', 'F711', 'USTA', 'F900',\n",
       "       '1566', '1002', 'A227', 'UA01', 'F591', 'S700', 'N251', 'N252',\n",
       "       'N253', '7540', '348', 'I332', '3323', '244', '245', 'IKYL',\n",
       "       'IRDZ', 'F618', 'S200', '2560', 'IRIN', 'NMDM', 'NMFC', 'NSIO',\n",
       "       'NSID', 'F583', 'N254', 'S791', 'S793', '9271', 'UFRG', 'N246',\n",
       "       'NADI', '347', '1565', 'B247', '7543', 'S972', 'N601', 'I342',\n",
       "       'I331', 'S786', 'S790', 'S785', '345', 'I339', 'A230', 'I338',\n",
       "       'I335', 'I349', 'S792', '2570', 'B106', 'F588', 'I326', 'B253',\n",
       "       'B254', 'I346', 'F590', '247', '249', 'NAKV', 'B246', 'IGFR',\n",
       "       '250', '248', 'N256', '346', '349', 'UA02', 'I344', '2547', 'I351',\n",
       "       'S789', '1010', 'I341', 'I337', 'N281', 'B288', '2548', 'F712',\n",
       "       'IPHY', 'I343', 'I347', 'F713', 'F709', 'F717', 'F715', '7550',\n",
       "       'F716', 'N285', 'I348', '7553', '7548', '246', '342', 'IDIP',\n",
       "       '1390', '1389', 'B285', 'B103', '341', '343', 'I207', 'F714',\n",
       "       'SPEZ', '7556', 'I336', 'NHK4', '241', 'B500', 'I353', 'B255',\n",
       "       'NVF2', '7546', '7547', 'N255', 'I324', 'N286', 'B286', '242',\n",
       "       'IBPR', 'B280', '7549', 'S795', 'I354', 'S794', '7557', '1395',\n",
       "       '1397', '1393', '1394', '1391', 'F719', '6224', 'A010', 'N288',\n",
       "       'N284', 'F718', 'N280', '3353', 'IFGT', 'N500', 'A239', 'A240',\n",
       "       'A242', '7555', 'N125', 'A238', 'A241', '7558', 'N991', 'S805',\n",
       "       'S806', 'S798', 'S799', 'F727', 'S807', 'S804', 'F726', 'N127',\n",
       "       'I340', 'I345', 'F720', 'S803', 'S802', 'N114', '7551', '130',\n",
       "       'N289', '1398', '7571', '7552', 'F723', 'F721', 'F728', 'NBB1',\n",
       "       'N129', 'B289', 'F729', 'NRL1', 'B290', 'NRAS', '6229', '7554',\n",
       "       'F731', 'F724', 'F736', 'B292', 'NAIO', 'F735', 'N291', 'F734',\n",
       "       'B291', 'ICOI', 'F733', 'I357', 'F589', 'IEST', 'I358', '7560',\n",
       "       'F725', 'NVI1', 'B294', 'N294', 'N123', 'S294', 'I359', 'IMAR',\n",
       "       'F732', 'N292', 'B123', 'I352', 'I360', 'I363', 'B990', '1503',\n",
       "       '1201', '1318', '1402', '1403', '1205', '1401', '5010', '1202',\n",
       "       'B296', 'N296', 'C000', 'X001', 'X000', 'XXXX', 'P000', 'C004',\n",
       "       'X26W', 'X26Y', 'X26Z', 'X27A', 'XFXX'], dtype=object)"
      ]
     },
     "execution_count": 7,
     "metadata": {},
     "output_type": "execute_result"
    }
   ],
   "source": [
    "df[\"PURCHASE_ORDER_TYPE\"].unique()"
   ]
  },
  {
   "cell_type": "code",
   "execution_count": 8,
   "metadata": {},
   "outputs": [
    {
     "data": {
      "text/plain": [
       "array([nan, 93., 64., 52.])"
      ]
     },
     "execution_count": 8,
     "metadata": {},
     "output_type": "execute_result"
    }
   ],
   "source": [
    "df[\"CREDIT_STATUS\"].unique()"
   ]
  },
  {
   "cell_type": "markdown",
   "metadata": {},
   "source": [
    "## Observations\n",
    "- The dataset had around 1.1 Million rows.\n",
    "- The data is not clean\n",
    "    - It has null values for two of the parameters.\n",
    "    - dates, order amount need to be modified.\n"
   ]
  },
  {
   "cell_type": "markdown",
   "metadata": {},
   "source": [
    "## Scrub and Clean the Data"
   ]
  },
  {
   "cell_type": "code",
   "execution_count": 9,
   "metadata": {},
   "outputs": [
    {
     "data": {
      "text/plain": [
       "array([20220101, 20220102, 20220103, 20220104, 20220105, 20220106,\n",
       "       20220107, 20220108, 20220110, 20220109, 20220111, 20220112,\n",
       "       20220113, 20220114, 20220115, 20220117, 20220116, 20220118,\n",
       "       20220119, 20220120, 20220121, 20220122, 20220124, 20220123,\n",
       "       20220125, 20220126, 20220127, 20220128, 20220129, 20220131,\n",
       "       20220130, 20220201, 20220202, 20220203, 20220204, 20220205,\n",
       "       20220207, 20220206, 20220208, 20220209, 20220210, 20220211,\n",
       "       20220214, 20220213, 20220212, 20220215, 20220216, 20220217,\n",
       "       20220218, 20220220, 20220221, 20220219, 20220222, 20220223,\n",
       "       20220224, 20220225, 20220226, 20220227, 20220228, 20220301,\n",
       "       20220302, 20220303, 20220304, 20220306, 20220307, 20220305,\n",
       "       20220308, 20220309, 20220310, 20220311, 20220312, 20220314,\n",
       "       20220313, 20220315, 20220316, 20220317, 20220318, 20220319,\n",
       "       20220321, 20220320, 20220322, 20220323, 20220324, 20220325,\n",
       "       20220326, 20220328, 20220327, 20220329, 20220330, 20220331,\n",
       "       20220401, 20220402, 20220404, 20220403, 20220405, 20220406,\n",
       "       20220407, 20220408, 20220411, 20220409, 20220410, 20220412,\n",
       "       20220413, 20220414, 20220415, 20220416, 20220418, 20220419,\n",
       "       20220417, 20220420, 20220421, 20220422, 20220425, 20220424,\n",
       "       20220423, 20220426, 20220427, 20220428, 20220429, 20220430,\n",
       "       20220502, 20220501, 20220503, 20220504, 20220505, 20220506,\n",
       "       20220507, 20220509, 20220508, 20220510, 20220511, 20220512,\n",
       "       20220513, 20220514, 20220516, 20220515, 20220517, 20220518,\n",
       "       20220519, 20220520, 20220521, 20220522, 20220523, 20220524,\n",
       "       20220525, 20220526, 20220527, 20220528, 20220530, 20220529,\n",
       "       20220531, 20220601], dtype=int64)"
      ]
     },
     "execution_count": 9,
     "metadata": {},
     "output_type": "execute_result"
    }
   ],
   "source": [
    "df[\"ORDER_CREATION_DATE\"].unique()"
   ]
  },
  {
   "cell_type": "code",
   "execution_count": 10,
   "metadata": {},
   "outputs": [
    {
     "data": {
      "text/plain": [
       "<DatetimeArray>\n",
       "['2022-01-01 00:00:00', '2022-01-02 00:00:00', '2022-01-03 00:00:00',\n",
       " '2022-01-04 00:00:00', '2022-01-05 00:00:00', '2022-01-06 00:00:00',\n",
       " '2022-01-07 00:00:00', '2022-01-08 00:00:00', '2022-01-10 00:00:00',\n",
       " '2022-01-09 00:00:00',\n",
       " ...\n",
       " '2022-05-23 00:00:00', '2022-05-24 00:00:00', '2022-05-25 00:00:00',\n",
       " '2022-05-26 00:00:00', '2022-05-27 00:00:00', '2022-05-28 00:00:00',\n",
       " '2022-05-30 00:00:00', '2022-05-29 00:00:00', '2022-05-31 00:00:00',\n",
       " '2022-06-01 00:00:00']\n",
       "Length: 152, dtype: datetime64[ns]"
      ]
     },
     "execution_count": 10,
     "metadata": {},
     "output_type": "execute_result"
    }
   ],
   "source": [
    "df[\"ORDER_CREATION_DATE\"] = pd.to_datetime(df[\"ORDER_CREATION_DATE\"], format=\"%Y%m%d\")\n",
    "df[\"ORDER_CREATION_DATE\"].unique()"
   ]
  },
  {
   "cell_type": "code",
   "execution_count": 11,
   "metadata": {},
   "outputs": [
    {
     "data": {
      "text/plain": [
       "array([20220113, 20220111, 20220112, 20220106, 20220107, 20211231,\n",
       "       20220110, 20220103, 20220118, 20220328, 20220331, 20220330,\n",
       "       20220105, 20220125, 20220119, 20220117, 20220215, 20211229,\n",
       "       20220824, 20220114, 20220126, 20220214, 20220124, 20220128,\n",
       "       20220131, 20220207, 20220204, 20220123, 20220225, 20220224,\n",
       "       20220322, 20220216, 20220120, 20220316, 20220212, 20220228,\n",
       "       20220317, 20220108, 20220219, 20220301, 20220104, 20220324,\n",
       "       20220223, 20220102, 20280103, 20220506, 20220127, 20220302,\n",
       "       20220203, 20220202, 20220201, 20220121, 20220205, 20220122,\n",
       "       20220221, 20220115, 20220208, 20220307, 20220210, 20220211,\n",
       "       20220406, 20220314, 20220304, 20220730, 20220209, 20220217,\n",
       "       20220305, 20220109, 20220413, 20220303, 20220116, 20220321,\n",
       "       20220222, 20220315, 20220712, 20220414, 20220505, 20220520,\n",
       "       20220218, 20220130, 20220504, 20220407, 20210111, 20210114,\n",
       "       20220213, 20220318, 20220518, 20220311, 20220430, 20220226,\n",
       "       20220220, 20220620, 20211227, 20220319, 20220427, 20220405,\n",
       "       20220306, 20220411, 20220404, 20220129, 20220408, 20220423,\n",
       "       20220309, 20220429, 20220418, 20220206, 20220310, 20211129,\n",
       "       20220227, 20220630, 20220308, 20220329, 20220521, 20220425,\n",
       "       20220510, 20220326, 20221005, 20220416, 20210119, 20220519,\n",
       "       20220704, 20220606, 20220323, 20220410, 20220401, 20220422,\n",
       "       20220512, 20220325, 20220412, 20220415, 20220420, 20220320,\n",
       "       20220523, 20220503, 20220428, 20220628, 20220417, 20220823,\n",
       "       20220624, 20220419, 20220421, 20220327, 20220515, 20220509,\n",
       "       20220701, 20220313, 20220617, 20220919, 20220721, 20221010,\n",
       "       20220508, 20220426, 20220527, 20210207, 20220402, 20220312,\n",
       "       20220502, 20220511, 20220615, 20220716, 20221111, 20220604,\n",
       "       20230116, 20220910, 20220609, 20221024, 20220603, 20210211,\n",
       "       20220616, 20220709, 20220627, 20220403, 22020217, 20221216,\n",
       "       20220424, 20220605, 20220522, 20220501, 20220525, 20220820,\n",
       "       20220529, 20220622, 20221231, 20221030, 20220607, 20220517,\n",
       "       20220805, 20220623, 20220613, 20220524, 20220608, 20220409,\n",
       "       20190808, 20191031, 20190822, 20210513, 20210628, 20210607,\n",
       "       20210610, 20210621, 20210624, 20210617, 20210527, 20210614,\n",
       "       20220516, 20220513, 20220530, 20220926, 20220708, 20220811,\n",
       "       20220526, 20220514, 20220610, 20220722, 20220819, 20220717,\n",
       "       20220602, 20220808, 20210321, 20220614, 20221012, 20220507,\n",
       "       20220601, 20220714, 20220914, 20220921, 20220531, 20220612,\n",
       "       20220705, 20210712, 20210322, 20210809, 20210816, 20210326,\n",
       "       20280315, 20220725, 20220928, 20220815, 20220715, 20220618,\n",
       "       20220702, 20220825, 20221015, 20230202, 20221130, 20220718,\n",
       "       20220804, 20220621, 20220629, 20220905, 20220707, 20220611,\n",
       "       20230115, 20220729, 20220731, 20220831, 20221215, 20220528,\n",
       "       20220816, 20220909, 20220727, 20230530, 20230228, 20230130,\n",
       "       20220917, 20220915, 20220706, 20220802, 20220726, 20220801,\n",
       "       20220619, 20220830, 20220907, 20220713, 20220711, 20220728,\n",
       "       20220720, 20220710, 20220625, 20220803, 20220703, 20220923,\n",
       "       20220922, 20220810, 20220822, 20221013, 20220806, 20220626,\n",
       "       20220809, 20220817, 20221230, 20220719, 20220920, 20221115,\n",
       "       20220906, 20221006, 20221021, 20221020, 20220812, 20220918,\n",
       "       20230215, 20220818, 20221117, 20221025, 20221014, 20220930,\n",
       "       20220913, 20221109, 20280622, 20220821, 20220826, 20220724,\n",
       "       20221004, 20211207, 20221003, 20220929, 20220927, 20211122,\n",
       "       20211206, 20211213, 20211220, 20220902, 20200218, 20211226,\n",
       "       20220901, 20220829, 20230201, 20210320, 20221028, 20221226,\n",
       "       20230103, 20221001, 20230123, 20230126, 20230125, 20221101,\n",
       "       20230102, 20230124, 20230301, 20230302, 20220908, 20221202,\n",
       "       20221125, 20221128, 20221205, 20221017, 20221103, 20221027,\n",
       "       20220813, 20220723, 20220912, 20221019, 20220101, 20211124,\n",
       "       20210412, 20210131, 20211202, 20221118], dtype=int64)"
      ]
     },
     "execution_count": 11,
     "metadata": {},
     "output_type": "execute_result"
    }
   ],
   "source": [
    "df[\"REQUESTED_DELIVERY_DATE\"].unique()"
   ]
  },
  {
   "cell_type": "code",
   "execution_count": 12,
   "metadata": {},
   "outputs": [
    {
     "data": {
      "text/plain": [
       "<DatetimeArray>\n",
       "['2022-01-13 00:00:00', '2022-01-11 00:00:00', '2022-01-12 00:00:00',\n",
       " '2022-01-06 00:00:00', '2022-01-07 00:00:00', '2021-12-31 00:00:00',\n",
       " '2022-01-10 00:00:00', '2022-01-03 00:00:00', '2022-01-18 00:00:00',\n",
       " '2022-03-28 00:00:00',\n",
       " ...\n",
       " '2022-08-13 00:00:00', '2022-07-23 00:00:00', '2022-09-12 00:00:00',\n",
       " '2022-10-19 00:00:00', '2022-01-01 00:00:00', '2021-11-24 00:00:00',\n",
       " '2021-04-12 00:00:00', '2021-01-31 00:00:00', '2021-12-02 00:00:00',\n",
       " '2022-11-18 00:00:00']\n",
       "Length: 358, dtype: datetime64[ns]"
      ]
     },
     "execution_count": 12,
     "metadata": {},
     "output_type": "execute_result"
    }
   ],
   "source": [
    "df[\"REQUESTED_DELIVERY_DATE\"] = pd.to_datetime(df[\"REQUESTED_DELIVERY_DATE\"], format=\"%Y%m%d\")\n",
    "df[\"REQUESTED_DELIVERY_DATE\"].unique()"
   ]
  },
  {
   "cell_type": "code",
   "execution_count": 13,
   "metadata": {},
   "outputs": [
    {
     "data": {
      "text/plain": [
       "ORDER_CURRENCY\n",
       "USD    643185\n",
       "EUR    253335\n",
       "AUD     68993\n",
       "CAD     56508\n",
       "GBP     22115\n",
       "MYR     14012\n",
       "PLN     11865\n",
       "AED      7852\n",
       "HKD      6207\n",
       "CHF      5259\n",
       "RON      4980\n",
       "SGD      3909\n",
       "CZK      2180\n",
       "HU1      1377\n",
       "NZD        79\n",
       "BHD        32\n",
       "SAR        14\n",
       "QAR        12\n",
       "KWD         7\n",
       "SEK         4\n",
       "Name: count, dtype: int64"
      ]
     },
     "execution_count": 13,
     "metadata": {},
     "output_type": "execute_result"
    }
   ],
   "source": [
    "df['ORDER_CURRENCY'].value_counts()"
   ]
  },
  {
   "cell_type": "code",
   "execution_count": 14,
   "metadata": {},
   "outputs": [],
   "source": [
    "def convert_currency(amount, currency):\n",
    "    if currency == 'USD':\n",
    "        return amount\n",
    "    else:\n",
    "        url = 'https://www.google.com/search?q={} +{} +to +usd '.format(amount, currency)\n",
    "        response = requests.get(url)\n",
    "        soup = BeautifulSoup(response.text, 'html.parser')\n",
    "        result = soup.find('div', attrs={'class':'BNeawe iBp4i AP7Wnd'}).text\n",
    "        result = result.split(' ')[0]\n",
    "        return result"
   ]
  },
  {
   "cell_type": "code",
   "execution_count": 15,
   "metadata": {},
   "outputs": [],
   "source": [
    "df['ORDER_CURRENCY'] = df['ORDER_CURRENCY'].str.replace('HU1', 'HUI')"
   ]
  },
  {
   "cell_type": "code",
   "execution_count": 16,
   "metadata": {},
   "outputs": [],
   "source": [
    "symbols = [x for x in df['ORDER_CURRENCY'].unique()]\n",
    "\n",
    "dic = {}\n",
    "for symbol in symbols:\n",
    "    try:\n",
    "        dic[symbol] = convert_currency('1', symbol)\n",
    "    except:\n",
    "        print(symbol)"
   ]
  },
  {
   "cell_type": "code",
   "execution_count": 17,
   "metadata": {},
   "outputs": [],
   "source": [
    "df['ORDER_AMOUNT'] = df['ORDER_AMOUNT'].str.replace(',', '.')"
   ]
  },
  {
   "cell_type": "code",
   "execution_count": 18,
   "metadata": {},
   "outputs": [
    {
     "data": {
      "text/plain": [
       "32"
      ]
     },
     "execution_count": 18,
     "metadata": {},
     "output_type": "execute_result"
    }
   ],
   "source": [
    "df[df['ORDER_AMOUNT'].str.contains('-')].shape[0]"
   ]
  },
  {
   "cell_type": "code",
   "execution_count": 19,
   "metadata": {},
   "outputs": [],
   "source": [
    "df['ORDER_AMOUNT'] = df['ORDER_AMOUNT'].str.replace('-', '')"
   ]
  },
  {
   "cell_type": "code",
   "execution_count": 20,
   "metadata": {},
   "outputs": [],
   "source": [
    "df['ORDER_AMOUNT'] = pd.to_numeric(df['ORDER_AMOUNT'])"
   ]
  },
  {
   "cell_type": "code",
   "execution_count": 21,
   "metadata": {},
   "outputs": [],
   "source": [
    "df['amount_in_usd'] = df.apply(lambda x: float(x['ORDER_AMOUNT']) * float(dic[x['ORDER_CURRENCY']]), axis=1)"
   ]
  },
  {
   "cell_type": "code",
   "execution_count": 22,
   "metadata": {},
   "outputs": [
    {
     "data": {
      "text/plain": [
       "0"
      ]
     },
     "execution_count": 22,
     "metadata": {},
     "output_type": "execute_result"
    }
   ],
   "source": [
    "df[df['amount_in_usd'] == '0'].shape[0]"
   ]
  },
  {
   "cell_type": "code",
   "execution_count": 23,
   "metadata": {},
   "outputs": [],
   "source": [
    "df[\"PURCHASE_ORDER_TYPE\"].fillna(\"Not Available\", inplace=True)\n",
    "df[\"CREDIT_STATUS\"].fillna(0.0, inplace=True)"
   ]
  },
  {
   "cell_type": "code",
   "execution_count": 24,
   "metadata": {},
   "outputs": [
    {
     "name": "stdout",
     "output_type": "stream",
     "text": [
      "<class 'pandas.core.frame.DataFrame'>\n",
      "RangeIndex: 1101925 entries, 0 to 1101924\n",
      "Data columns (total 17 columns):\n",
      " #   Column                   Non-Null Count    Dtype         \n",
      "---  ------                   --------------    -----         \n",
      " 0   CUSTOMER_ORDER_ID        1101925 non-null  int64         \n",
      " 1   SALES_ORG                1101925 non-null  int64         \n",
      " 2   DISTRIBUTION_CHANNEL     1101925 non-null  object        \n",
      " 3   DIVISION                 1101925 non-null  object        \n",
      " 4   RELEASED_CREDIT_VALUE    1101925 non-null  object        \n",
      " 5   PURCHASE_ORDER_TYPE      1101925 non-null  object        \n",
      " 6   COMPANY_CODE             1101925 non-null  int64         \n",
      " 7   ORDER_CREATION_DATE      1101925 non-null  datetime64[ns]\n",
      " 8   ORDER_CREATION_TIME      1101925 non-null  int64         \n",
      " 9   CREDIT_CONTROL_AREA      1101925 non-null  object        \n",
      " 10  SOLD_TO_PARTY            1101925 non-null  int64         \n",
      " 11  ORDER_AMOUNT             1101925 non-null  float64       \n",
      " 12  REQUESTED_DELIVERY_DATE  1101925 non-null  datetime64[ns]\n",
      " 13  ORDER_CURRENCY           1101925 non-null  object        \n",
      " 14  CREDIT_STATUS            1101925 non-null  float64       \n",
      " 15  CUSTOMER_NUMBER          1101925 non-null  int64         \n",
      " 16  amount_in_usd            1101925 non-null  float64       \n",
      "dtypes: datetime64[ns](2), float64(3), int64(6), object(6)\n",
      "memory usage: 142.9+ MB\n"
     ]
    }
   ],
   "source": [
    "df.info()"
   ]
  },
  {
   "cell_type": "code",
   "execution_count": 25,
   "metadata": {},
   "outputs": [
    {
     "data": {
      "text/plain": [
       "128637831.0"
      ]
     },
     "execution_count": 25,
     "metadata": {},
     "output_type": "execute_result"
    }
   ],
   "source": [
    "df[\"ORDER_AMOUNT\"].max()"
   ]
  },
  {
   "cell_type": "code",
   "execution_count": 26,
   "metadata": {},
   "outputs": [
    {
     "data": {
      "image/png": "[encoded data removed]",
      "text/plain": [
       "<Figure size 1000x800 with 1 Axes>"
      ]
     },
     "metadata": {},
     "output_type": "display_data"
    }
   ],
   "source": [
    "df['ORDER_AMOUNT'].hist(figsize=(10,8))\n",
    "plt.show()"
   ]
  },
  {
   "cell_type": "code",
   "execution_count": 27,
   "metadata": {},
   "outputs": [],
   "source": [
    "def plot_hist_box( df, title):\n",
    "    print(title)\n",
    "    print(\"Skew : \", round(df[\"ORDER_AMOUNT\"].skew(), 2))\n",
    "    plt.figure(figsize=(15, 7))\n",
    "    plt.subplot(1, 2, 1)  # No.of Rows is 1 number of columns is 2 and index is 1\n",
    "    df[\"ORDER_AMOUNT\"].hist(bins=10, grid=False) # Shows the histogram in first graph\n",
    "    plt.ylabel = \"Count\"\n",
    "    plt.subplot(1, 2, 2)\n",
    "    sns.boxplot(x=df[\"ORDER_AMOUNT\"])  # Shows the box plot in sencond graph.\n",
    "    plt.show()"
   ]
  },
  {
   "cell_type": "code",
   "execution_count": 28,
   "metadata": {},
   "outputs": [
    {
     "name": "stdout",
     "output_type": "stream",
     "text": [
      "ORDER_AMOUNT\n",
      "Skew :  261.24\n"
     ]
    },
    {
     "data": {
      "image/png": "[encoded data removed]",
      "text/plain": [
       "<Figure size 1500x700 with 2 Axes>"
      ]
     },
     "metadata": {},
     "output_type": "display_data"
    }
   ],
   "source": [
    "plot_hist_box(df, \"ORDER_AMOUNT\")"
   ]
  },
  {
   "cell_type": "code",
   "execution_count": 29,
   "metadata": {},
   "outputs": [],
   "source": [
    "df['uniue_cust_id'] = df['CUSTOMER_NUMBER'] + df['COMPANY_CODE']"
   ]
  },
  {
   "cell_type": "code",
   "execution_count": null,
   "metadata": {},
   "outputs": [],
   "source": []
  },
  {
   "cell_type": "code",
   "execution_count": 30,
   "metadata": {},
   "outputs": [],
   "source": [
    "df.to_csv('./cust_amt_pred_prod_sample/data/Preprocessed_data.csv', index=False)"
   ]
  }
 ],
 "metadata": {
  "kernelspec": {
   "display_name": "venv",
   "language": "python",
   "name": "python3"
  },
  "language_info": {
   "codemirror_mode": {
    "name": "ipython",
    "version": 3
   },
   "file_extension": ".py",
   "mimetype": "text/x-python",
   "name": "python",
   "nbconvert_exporter": "python",
   "pygments_lexer": "ipython3",
   "version": "3.11.6"
  }
 },
 "nbformat": 4,
 "nbformat_minor": 2
}
